{
 "cells": [
  {
   "cell_type": "markdown",
   "metadata": {},
   "source": [
    "# 第二讲 - 矩阵消元及其与矩阵乘法的关系\n",
    "\n",
    "- 消元法解方程组\n",
    "- 矩阵简化\n",
    "- 反向替代\n",
    "- 矩阵乘法"
   ]
  },
  {
   "cell_type": "markdown",
   "metadata": {},
   "source": [
    "## 消元法解方程组\n",
    "\n",
    "$$x+2y+z=2\\quad(1)\\\\3x+8y+z=12\\quad(2)\\\\4y+z=2\\quad(3)$$\n",
    "\n",
    "提取出矩阵：\n",
    "\n",
    "$$A=\\begin{bmatrix}1&2&1\\\\3&8&1\\\\0&4&1\\end{bmatrix}$$\n",
    "\n",
    "下面先做一些初始化工作："
   ]
  },
  {
   "cell_type": "code",
   "execution_count": 1,
   "metadata": {},
   "outputs": [],
   "source": [
    "import numpy as np\n",
    "from sympy import *\n",
    "init_printing()\n",
    "x, y, z = symbols('x y z')\n",
    "lhs = (x + 2*y + z, 3*x + 8*y + z, 4*y + z)\n",
    "rhs = (2, 12, 2)\n",
    "A = np.array([[1, 2, 1], [3, 8, 1], [0, 4, 1]])"
   ]
  },
  {
   "cell_type": "markdown",
   "metadata": {},
   "source": [
    "### 方程组消元方式\n",
    "\n",
    "首先消去未知数x，我们用等式(2)减去3倍的等式(1)，我们得到等式(4)："
   ]
  },
  {
   "cell_type": "code",
   "execution_count": 2,
   "metadata": {},
   "outputs": [
    {
     "data": {
      "image/png": "[encoded data removed]",
      "text/latex": [
       "$\\displaystyle 2 y - 2 z = 6$"
      ],
      "text/plain": [
       "2⋅y - 2⋅z = 6"
      ]
     },
     "execution_count": 2,
     "metadata": {},
     "output_type": "execute_result"
    }
   ],
   "source": [
    "eq4 = Eq(lhs[1]-3*lhs[0], rhs[1]-3*rhs[0])\n",
    "eq4"
   ]
  },
  {
   "cell_type": "markdown",
   "metadata": {},
   "source": [
    "由于等式(3)的x系数为0，因此，等式(3)不需要消除x，也可以认为等式(3)减去0倍的等式(1)，得到等式(5)："
   ]
  },
  {
   "cell_type": "code",
   "execution_count": 3,
   "metadata": {},
   "outputs": [
    {
     "data": {
      "image/png": "[encoded data removed]",
      "text/latex": [
       "$\\displaystyle 4 y + z = 2$"
      ],
      "text/plain": [
       "4⋅y + z = 2"
      ]
     },
     "execution_count": 3,
     "metadata": {},
     "output_type": "execute_result"
    }
   ],
   "source": [
    "eq5 = Eq(lhs[2]-0*lhs[0], rhs[2]-0*rhs[0])\n",
    "eq5"
   ]
  },
  {
   "cell_type": "markdown",
   "metadata": {},
   "source": [
    "此时我们的方程组已经经过消去未知数x，变为：\n",
    "\n",
    "$$x+2y+z=2\\quad(1)\\\\2y-2z=6\\quad(4)\\\\4y+z=2\\quad(5)$$\n",
    "\n",
    "下面我们利用等式(4)消去等式(5)的未知数y，得到等式(6)："
   ]
  },
  {
   "cell_type": "code",
   "execution_count": 4,
   "metadata": {},
   "outputs": [
    {
     "data": {
      "image/png": "[encoded data removed]",
      "text/latex": [
       "$\\displaystyle 5 z = -10$"
      ],
      "text/plain": [
       "5⋅z = -10"
      ]
     },
     "execution_count": 4,
     "metadata": {},
     "output_type": "execute_result"
    }
   ],
   "source": [
    "eq6 = Eq(eq5.args[0]-2*eq4.args[0], eq5.args[1]-2*eq4.args[1])\n",
    "eq6"
   ]
  },
  {
   "cell_type": "markdown",
   "metadata": {},
   "source": [
    "这是我们得到了消元后的方程组：\n",
    "\n",
    "$$x+2y+z=2\\quad(1)\\\\2y-2z=6\\quad(4)\\\\5z=-10\\quad(6)$$\n",
    "\n",
    "等式(6)很容易接触未知数z："
   ]
  },
  {
   "cell_type": "code",
   "execution_count": 5,
   "metadata": {},
   "outputs": [
    {
     "name": "stdout",
     "output_type": "stream",
     "text": [
      "{z: -2}\n"
     ]
    }
   ],
   "source": [
    "solz = solve(eq6, dict=True)\n",
    "print(solz[0])"
   ]
  },
  {
   "cell_type": "markdown",
   "metadata": {},
   "source": [
    "然后依次将z带入等式(4)，求得y，将y和z带入等式(1)，求得x，最终解出全方程组："
   ]
  },
  {
   "cell_type": "code",
   "execution_count": 6,
   "metadata": {},
   "outputs": [
    {
     "name": "stdout",
     "output_type": "stream",
     "text": [
      "{y: 1}\n"
     ]
    }
   ],
   "source": [
    "soly = solve(eq4.subs(z, -2), y, dict=True)\n",
    "print(soly[0])"
   ]
  },
  {
   "cell_type": "code",
   "execution_count": 7,
   "metadata": {},
   "outputs": [
    {
     "name": "stdout",
     "output_type": "stream",
     "text": [
      "{x: 2}\n"
     ]
    }
   ],
   "source": [
    "solx = solve(Eq(x+2*y+z, 2).subs({y:1, z:-2}), x, dict=True)\n",
    "print(solx[0])"
   ]
  },
  {
   "cell_type": "code",
   "execution_count": 8,
   "metadata": {},
   "outputs": [
    {
     "name": "stdout",
     "output_type": "stream",
     "text": [
      "{x: 2, y: 1, z: -2}\n"
     ]
    }
   ],
   "source": [
    "print({**solx[0], **soly[0], **solz[0]})"
   ]
  },
  {
   "cell_type": "markdown",
   "metadata": {},
   "source": [
    "### 矩阵消元方式\n",
    "\n",
    "矩阵消元的方式会显得更加自然和简单，从左上角到右下角沿对角线（称为矩阵的主对角线）依次消除对角线以下的数字（将对角线以下数字变成0）。我们将保留在对角线或以上用来进行消元的数字称为Pivot number。\n",
    "\n",
    "首先将矩阵第二行减去三倍的第一行："
   ]
  },
  {
   "cell_type": "code",
   "execution_count": 9,
   "metadata": {},
   "outputs": [
    {
     "data": {
      "text/plain": [
       "array([[ 1,  2,  1],\n",
       "       [ 0,  2, -2],\n",
       "       [ 0,  4,  1]])"
      ]
     },
     "execution_count": 9,
     "metadata": {},
     "output_type": "execute_result"
    }
   ],
   "source": [
    "A[1] -= 3 * A[0]\n",
    "A"
   ]
  },
  {
   "cell_type": "markdown",
   "metadata": {},
   "source": [
    "当然我们也可以认为下面还进行了将矩阵的第三行减去0倍的第一行："
   ]
  },
  {
   "cell_type": "code",
   "execution_count": 10,
   "metadata": {},
   "outputs": [
    {
     "data": {
      "text/plain": [
       "array([[ 1,  2,  1],\n",
       "       [ 0,  2, -2],\n",
       "       [ 0,  4,  1]])"
      ]
     },
     "execution_count": 10,
     "metadata": {},
     "output_type": "execute_result"
    }
   ],
   "source": [
    "A[2] -= 0 * A[0]\n",
    "A"
   ]
  },
  {
   "cell_type": "markdown",
   "metadata": {},
   "source": [
    "因此，经过第一次消元，矩阵第一列除了pivot number之外，全部变为0，下面我们继续对角线第二个pivot number。\n",
    "\n",
    "将矩阵第三行减去2倍的第二行："
   ]
  },
  {
   "cell_type": "code",
   "execution_count": 11,
   "metadata": {},
   "outputs": [
    {
     "data": {
      "text/plain": [
       "array([[ 1,  2,  1],\n",
       "       [ 0,  2, -2],\n",
       "       [ 0,  0,  5]])"
      ]
     },
     "execution_count": 11,
     "metadata": {},
     "output_type": "execute_result"
    }
   ],
   "source": [
    "A[2] -= 2 * A[1]\n",
    "A"
   ]
  },
  {
   "cell_type": "markdown",
   "metadata": {},
   "source": [
    "此时，矩阵已经变为一个上三角矩阵，主对角线以下的元素全部为0.\n",
    "\n",
    "对于等式的右边 RHS，进行同样的操作，我们得到如下的矩阵方程式：\n",
    "\n",
    "$$\\begin{bmatrix}1&2&1\\\\0&2&-2\\\\0&0&5\\end{bmatrix}\\begin{bmatrix}x\\\\y\\\\z\\end{bmatrix}=\\begin{bmatrix}2\\\\6\\\\-10\\end{bmatrix}$$"
   ]
  },
  {
   "cell_type": "code",
   "execution_count": 12,
   "metadata": {},
   "outputs": [
    {
     "data": {
      "text/plain": [
       "array([  2,   6, -10])"
      ]
     },
     "execution_count": 12,
     "metadata": {},
     "output_type": "execute_result"
    }
   ],
   "source": [
    "b = np.array([2, 12, 2])\n",
    "b[1] -= 3 * b[0]\n",
    "b[2] -= 0 * b[0]\n",
    "b[2] -= 2 * b[1]\n",
    "b"
   ]
  },
  {
   "cell_type": "markdown",
   "metadata": {},
   "source": [
    "下面我们完成反向替代的过程，一下步骤等式左边的矩阵和等式右边的向量会一起进行操作："
   ]
  },
  {
   "cell_type": "code",
   "execution_count": 13,
   "metadata": {},
   "outputs": [
    {
     "name": "stdout",
     "output_type": "stream",
     "text": [
      "[[ 1  2  1]\n",
      " [ 0  2 -2]\n",
      " [ 0  0  1]] [ 2  6 -2]\n"
     ]
    }
   ],
   "source": [
    "# 解出z\n",
    "A[2] = A[2]/5\n",
    "b[2] /= 5\n",
    "print(A, b)"
   ]
  },
  {
   "cell_type": "code",
   "execution_count": 14,
   "metadata": {},
   "outputs": [
    {
     "name": "stdout",
     "output_type": "stream",
     "text": [
      "[[1 2 0]\n",
      " [0 1 0]\n",
      " [0 0 1]] [ 4  1 -2]\n"
     ]
    }
   ],
   "source": [
    "# 解出y\n",
    "A[1] += 2 * A[2]\n",
    "b[1] += 2 * b[2]\n",
    "A[0] -= A[2]\n",
    "b[0] -= b[2]\n",
    "A[1] = A[1]/2\n",
    "b[1] /= 2\n",
    "print(A, b)"
   ]
  },
  {
   "cell_type": "code",
   "execution_count": 15,
   "metadata": {},
   "outputs": [
    {
     "name": "stdout",
     "output_type": "stream",
     "text": [
      "[[1 0 0]\n",
      " [0 1 0]\n",
      " [0 0 1]] [ 2  1 -2]\n"
     ]
    }
   ],
   "source": [
    "# 解出x\n",
    "A[0] -= 2 * A[1]\n",
    "b[0] -= 2 * b[1]\n",
    "print(A, b)"
   ]
  },
  {
   "cell_type": "markdown",
   "metadata": {},
   "source": [
    "上面的结果表示成矩阵方程组（或者更进一步列视角）为：\n",
    "\n",
    "$$\\begin{bmatrix}1&0&0\\\\0&1&0\\\\0&0&1\\end{bmatrix}\\begin{bmatrix}x\\\\y\\\\z\\end{bmatrix}=\\begin{bmatrix}2\\\\2\\\\-2\\end{bmatrix}\\quad\\to\\quad x\\begin{bmatrix}1\\\\0\\\\0\\end{bmatrix}+y\\begin{bmatrix}0\\\\1\\\\0\\end{bmatrix}+z\\begin{bmatrix}0\\\\0\\\\1\\end{bmatrix}=\\begin{bmatrix}2\\\\1\\\\-2\\end{bmatrix}$$\n",
    "\n",
    "显而易见，等式右边就是方程组的解。"
   ]
  },
  {
   "cell_type": "markdown",
   "metadata": {},
   "source": [
    "### 行交换\n",
    "\n",
    "正如将等式(1)(2)(3)进行位置交换不会影响方程求解结果一样，在矩阵表达中，交换矩阵的行（同时也要交换等式右边RHS的向量位置）也不会影响结果。\n",
    "\n",
    "我们也可以将上面方程组的矩阵表达方式写成：\n",
    "\n",
    "$$A=\\begin{bmatrix}1&2&1\\\\0&4&1\\\\3&8&1\\end{bmatrix}\\begin{bmatrix}x\\\\y\\\\z\\end{bmatrix}=\\begin{bmatrix}2\\\\2\\\\12\\end{bmatrix}$$"
   ]
  },
  {
   "cell_type": "markdown",
   "metadata": {},
   "source": [
    "## 矩阵乘法\n",
    "\n",
    "假设有n行n列的矩阵A，$A=\\begin{bmatrix}a_{11}&\\cdots&a_{1n}\\\\ \\vdots & \\ddots & \\vdots \\\\ a_{n1}&\\cdots&a_{nn}\\end{bmatrix}$，按照行视角，我们可以表示为$A=\\begin{bmatrix}r_1 \\\\ \\vdots \\\\ r_n \\end{bmatrix}$，按照列视角，我们可以表示为$A=\\begin{bmatrix}c_1 & \\cdots & c_n \\end{bmatrix}$。\n",
    "\n",
    "如果矩阵A右边乘以一个n长度的向量$x=\\begin{bmatrix}x_1\\\\ \\vdots \\\\ x_n \\end{bmatrix}$，按照列视角非常容易表达，结果得到一个n长度的向量：\n",
    "\n",
    "$$ \\begin{bmatrix}c_1 & \\cdots & c_n \\end{bmatrix}\\begin{bmatrix}x_1\\\\ \\vdots \\\\ x_n \\end{bmatrix}=x_1c_1+\\cdots+x_nc_n$$\n",
    "\n",
    "如果矩阵A左边乘以一个$1\\times n$的矩阵（向量的倒置）$x=\\begin{bmatrix}x_1& \\cdots & x_n \\end{bmatrix}$，按照行视角非常容易表达，结果得到一个$1\\times n$的矩阵（向量的倒置）：\n",
    "\n",
    "$$ \\begin{bmatrix}x_1& \\cdots & x_n \\end{bmatrix}\\begin{bmatrix}r_1 \\\\ \\vdots \\\\ r_n \\end{bmatrix}=x_1r_1+\\cdots+x_nr_n$$\n",
    "\n",
    "**因此当进行矩阵乘法时，结果中的列是乘号左边的矩阵的列的线性组合，结果中的行是乘号右边的矩阵的行的线性组合。**"
   ]
  },
  {
   "cell_type": "markdown",
   "metadata": {},
   "source": [
    "当我们进行矩阵消元时，我们完全可以依靠矩阵乘法来进行，例如对于矩阵$A=\\begin{bmatrix}1&2&1\\\\3&8&1\\\\0&4&1\\end{bmatrix}$来说，第一步是需要消去第一列出pivot number外的所有数字，将其变为0。我们已经知道这需要将A的第二行减去3倍的第一行，将A的第三行减去0倍的第一行，结果中第一行保持不变。我们可以先写出乘号左边的第一行，让其是的乘号右边的行的线性组合等于第一行本身，于是可知：\n",
    "\n",
    "$$\\begin{bmatrix}1&0&0\\end{bmatrix}\\begin{bmatrix}1&2&1\\\\3&8&1\\\\0&4&1\\end{bmatrix}=\\begin{bmatrix}1&2&1\\end{bmatrix}$$\n",
    "\n",
    "使用numpy进行验证："
   ]
  },
  {
   "cell_type": "code",
   "execution_count": 16,
   "metadata": {},
   "outputs": [
    {
     "data": {
      "text/plain": [
       "array([1, 2, 1])"
      ]
     },
     "execution_count": 16,
     "metadata": {},
     "output_type": "execute_result"
    }
   ],
   "source": [
    "A = np.array([[1, 2, 1], [3, 8, 1], [0, 4, 1]])\n",
    "np.array([1, 0, 0])@A"
   ]
  },
  {
   "cell_type": "markdown",
   "metadata": {},
   "source": [
    "同理可知，结果第二行应该是矩阵第二行减去3倍第一行所得（或者可以认为是$-3\\times r_1 + r_2 + 0\\times r_3$）：\n",
    "\n",
    "$$\\begin{bmatrix}-3&1&0\\end{bmatrix}\\begin{bmatrix}1&2&1\\\\3&8&1\\\\0&4&1\\end{bmatrix}=\\begin{bmatrix}0&2&-2\\end{bmatrix}$$\n",
    "\n",
    "结果的第三行应该是矩阵第三行减去0被第一行所得（或者可以认为是$0\\times r_1 + 0\\times r_2 + r_3$）：\n",
    "\n",
    "$$\\begin{bmatrix}0&0&1\\end{bmatrix}\\begin{bmatrix}1&2&1\\\\3&8&1\\\\0&4&1\\end{bmatrix}=\\begin{bmatrix}0&4&1\\end{bmatrix}$$\n",
    "\n",
    "使用numpy进行验证："
   ]
  },
  {
   "cell_type": "code",
   "execution_count": 17,
   "metadata": {},
   "outputs": [
    {
     "data": {
      "text/plain": [
       "array([ 0,  2, -2])"
      ]
     },
     "execution_count": 17,
     "metadata": {},
     "output_type": "execute_result"
    }
   ],
   "source": [
    "np.array([-3, 1, 0])@A"
   ]
  },
  {
   "cell_type": "code",
   "execution_count": 18,
   "metadata": {},
   "outputs": [
    {
     "data": {
      "text/plain": [
       "array([0, 4, 1])"
      ]
     },
     "execution_count": 18,
     "metadata": {},
     "output_type": "execute_result"
    }
   ],
   "source": [
    "np.array([0, 0, 1])@A"
   ]
  },
  {
   "cell_type": "markdown",
   "metadata": {},
   "source": [
    "将这三个水平向量组合成一个矩阵，可以在一次乘法中完成第一个pivot number的消元过程：\n",
    "\n",
    "$$\\begin{bmatrix}1&0&0\\\\-3&1&0\\\\0&0&1\\end{bmatrix}\\begin{bmatrix}1&2&1\\\\3&8&1\\\\0&4&1\\end{bmatrix}=\\begin{bmatrix}1&2&1\\\\0&2&-2\\\\0&4&1\\end{bmatrix}$$\n",
    "\n",
    "在numpy中进行验证："
   ]
  },
  {
   "cell_type": "code",
   "execution_count": 19,
   "metadata": {},
   "outputs": [
    {
     "data": {
      "text/plain": [
       "array([[ 1.,  2.,  1.],\n",
       "       [ 0.,  2., -2.],\n",
       "       [ 0.,  4.,  1.]])"
      ]
     },
     "execution_count": 19,
     "metadata": {},
     "output_type": "execute_result"
    }
   ],
   "source": [
    "fac1 = np.eye(3)\n",
    "fac1[1, 0] = -3\n",
    "fac1@A"
   ]
  },
  {
   "cell_type": "markdown",
   "metadata": {},
   "source": [
    "类推下去，可以在左边再乘以一个矩阵，完成第二个pivot number的消元过程：\n",
    "\n",
    "$$\\begin{bmatrix}1&0&0\\\\0&1&0\\\\0&-2&1\\end{bmatrix}\\begin{bmatrix}1&0&0\\\\-3&1&0\\\\0&0&1\\end{bmatrix}\\begin{bmatrix}1&2&1\\\\3&8&1\\\\0&4&1\\end{bmatrix}=\\begin{bmatrix}1&2&1\\\\0&2&-2\\\\0&0&5\\end{bmatrix}$$\n",
    "\n",
    "验证："
   ]
  },
  {
   "cell_type": "code",
   "execution_count": 20,
   "metadata": {},
   "outputs": [
    {
     "data": {
      "text/plain": [
       "array([[ 1.,  2.,  1.],\n",
       "       [ 0.,  2., -2.],\n",
       "       [ 0.,  0.,  5.]])"
      ]
     },
     "execution_count": 20,
     "metadata": {},
     "output_type": "execute_result"
    }
   ],
   "source": [
    "fac2 = np.eye(3)\n",
    "fac2[2, 1] = -2\n",
    "fac2@fac1@A"
   ]
  },
  {
   "cell_type": "markdown",
   "metadata": {},
   "source": [
    "如果继续在左边添加矩阵相乘，我们还能完成反向替代的过程：\n",
    "\n",
    "$$\\begin{bmatrix}1&-2&0\\\\0&1&0\\\\0&0&1\\end{bmatrix}\\begin{bmatrix}1&0&0\\\\0&\\frac{1}{2}&0\\\\0&0&1\\end{bmatrix}\\begin{bmatrix}1&0&-1\\\\0&1&2\\\\0&0&1\\end{bmatrix}\\begin{bmatrix}1&0&0\\\\0&1&0\\\\0&0&\\frac{1}{5}\\end{bmatrix}\\begin{bmatrix}1&0&0\\\\0&1&0\\\\0&-2&1\\end{bmatrix}\\begin{bmatrix}1&0&0\\\\-3&1&0\\\\0&0&1\\end{bmatrix}\\begin{bmatrix}1&2&1\\\\3&8&1\\\\0&4&1\\end{bmatrix}=\\begin{bmatrix}1&0&0\\\\0&1&0\\\\0&0&1\\end{bmatrix}$$\n",
    "\n",
    "验证（因为涉及数值计算精度问题，所以最终结果不是完全为0或1，使用round函数目的是为了清晰）："
   ]
  },
  {
   "cell_type": "code",
   "execution_count": 21,
   "metadata": {},
   "outputs": [
    {
     "data": {
      "text/plain": [
       "array([[ 1.,  0., -0.],\n",
       "       [ 0.,  1.,  0.],\n",
       "       [ 0.,  0.,  1.]])"
      ]
     },
     "execution_count": 21,
     "metadata": {},
     "output_type": "execute_result"
    }
   ],
   "source": [
    "fac3 = np.eye(3)\n",
    "fac3[2, 2] = 1.0/5\n",
    "fac4 = np.array([[1, 0 , -1],[0, 1, 2], [0, 0, 1]])\n",
    "fac5 = np.eye(3)\n",
    "fac5[1, 1] = 1.0/2\n",
    "fac6 = np.eye(3)\n",
    "fac6[0, 1] = -2\n",
    "(fac6@fac5@fac4@fac3@fac2@fac1@A).round()"
   ]
  },
  {
   "cell_type": "markdown",
   "metadata": {},
   "source": [
    "从上面我们可以看到，如果需要一个矩阵将A变为上三角矩阵U的话，我们需要的是fac2乘以fac1：\n",
    "\n",
    "$$\\begin{bmatrix}1&0&0\\\\-3&1&0\\\\6&-2&1\\end{bmatrix}\\begin{bmatrix}1&2&1\\\\3&8&1\\\\0&4&1\\end{bmatrix}=\\begin{bmatrix}1&2&1\\\\0&2&-2\\\\0&0&5\\end{bmatrix}$$"
   ]
  },
  {
   "cell_type": "code",
   "execution_count": 22,
   "metadata": {},
   "outputs": [
    {
     "data": {
      "text/plain": [
       "array([[ 1.,  0.,  0.],\n",
       "       [-3.,  1.,  0.],\n",
       "       [ 6., -2.,  1.]])"
      ]
     },
     "execution_count": 22,
     "metadata": {},
     "output_type": "execute_result"
    }
   ],
   "source": [
    "fac2@fac1"
   ]
  },
  {
   "cell_type": "markdown",
   "metadata": {},
   "source": [
    "### 矩阵逆\n",
    "\n",
    "如果将fac6依次乘到fac1，得到的结果和A相乘就会变成一个单位矩阵I，根据定义$A^{-1}A=I$，我们可知：\n",
    "\n",
    "$$fac6 \\times fac5 \\times fac4 \\times fac3 \\times fac2 \\times fac1 = A^{-1}$$"
   ]
  },
  {
   "cell_type": "code",
   "execution_count": 23,
   "metadata": {},
   "outputs": [
    {
     "data": {
      "text/plain": [
       "array([[ 0.4,  0.2, -0.6],\n",
       "       [-0.3,  0.1,  0.2],\n",
       "       [ 1.2, -0.4,  0.2]])"
      ]
     },
     "execution_count": 23,
     "metadata": {},
     "output_type": "execute_result"
    }
   ],
   "source": [
    "fac6@fac5@fac4@fac3@fac2@fac1"
   ]
  },
  {
   "cell_type": "markdown",
   "metadata": {},
   "source": [
    "### 使用矩阵乘法行交换\n",
    "\n",
    "当乘法左边是单位矩阵I时，矩阵数据不会发生变化，因此如果我们重新排列单位矩阵的行之后，在与矩阵A相乘，就能对A的行进行交换，例如我们需要交换A的第二行和第三行：\n",
    "\n",
    "$$\\begin{bmatrix}1&0&0\\\\0&0&1\\\\0&1&0\\end{bmatrix}\\begin{bmatrix}1&2&1\\\\3&8&1\\\\0&4&1\\end{bmatrix}=\\begin{bmatrix}1&2&1\\\\0&4&1\\\\3&8&1\\end{bmatrix}$$\n",
    "\n",
    "验证："
   ]
  },
  {
   "cell_type": "code",
   "execution_count": 24,
   "metadata": {},
   "outputs": [
    {
     "data": {
      "text/plain": [
       "array([[1, 2, 1],\n",
       "       [0, 4, 1],\n",
       "       [3, 8, 1]])"
      ]
     },
     "execution_count": 24,
     "metadata": {},
     "output_type": "execute_result"
    }
   ],
   "source": [
    "np.array([[1, 0, 0],[0, 0, 1],[0, 1, 0]])@A"
   ]
  },
  {
   "cell_type": "markdown",
   "metadata": {},
   "source": [
    "如果我们需要循环的将行下移一个位置的话：\n",
    "\n",
    "$$\\begin{bmatrix}0&0&1\\\\1&0&0\\\\0&1&0\\end{bmatrix}\\begin{bmatrix}1&2&1\\\\3&8&1\\\\0&4&1\\end{bmatrix}=\\begin{bmatrix}0&4&1\\\\1&2&1\\\\3&8&1\\end{bmatrix}$$\n",
    "\n",
    "验证："
   ]
  },
  {
   "cell_type": "code",
   "execution_count": 25,
   "metadata": {},
   "outputs": [
    {
     "data": {
      "text/plain": [
       "array([[[0, 4, 1],\n",
       "        [1, 2, 1],\n",
       "        [3, 8, 1]]])"
      ]
     },
     "execution_count": 25,
     "metadata": {},
     "output_type": "execute_result"
    }
   ],
   "source": [
    "np.array([[[0, 0, 1],[1, 0, 0],[0, 1, 0]]])@A"
   ]
  },
  {
   "cell_type": "markdown",
   "metadata": {},
   "source": [
    "通过上面的列视角我们可以知道，如果需要交换列的位置的话，只需要在矩阵A的右边乘以单位矩阵的重新排列即可，如：\n",
    "\n",
    "$$\\begin{bmatrix}1&2&1\\\\3&8&1\\\\0&4&1\\end{bmatrix}\\begin{bmatrix}0&0&1\\\\1&0&0\\\\0&1&0\\end{bmatrix}=\\begin{bmatrix}2&1&1\\\\8&1&3\\\\4&1&0\\end{bmatrix}$$\n",
    "\n",
    "验证："
   ]
  },
  {
   "cell_type": "code",
   "execution_count": 26,
   "metadata": {},
   "outputs": [
    {
     "data": {
      "text/plain": [
       "array([[[2, 1, 1],\n",
       "        [8, 1, 3],\n",
       "        [4, 1, 0]]])"
      ]
     },
     "execution_count": 26,
     "metadata": {},
     "output_type": "execute_result"
    }
   ],
   "source": [
    "A@np.array([[[0, 0, 1],[1, 0, 0],[0, 1, 0]]])"
   ]
  },
  {
   "cell_type": "code",
   "execution_count": null,
   "metadata": {},
   "outputs": [],
   "source": []
  }
 ],
 "metadata": {
  "kernelspec": {
   "display_name": "Python 3",
   "language": "python",
   "name": "python3"
  },
  "language_info": {
   "codemirror_mode": {
    "name": "ipython",
    "version": 3
   },
   "file_extension": ".py",
   "mimetype": "text/x-python",
   "name": "python",
   "nbconvert_exporter": "python",
   "pygments_lexer": "ipython3",
   "version": "3.7.3"
  }
 },
 "nbformat": 4,
 "nbformat_minor": 2
}
