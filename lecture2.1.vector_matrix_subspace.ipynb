{
 "cells": [
  {
   "cell_type": "markdown",
   "metadata": {},
   "source": [
    "# 向量，矩阵和子空间"
   ]
  },
  {
   "cell_type": "markdown",
   "metadata": {},
   "source": [
    "我们可以对向量进行线性组合。假设我们有三个向量$u, v, w$，它们的线性组合可以表示为$x_1u+x_2v+x_3w$。\n",
    "\n",
    "如果考虑三维情况下，例如：$u=\\begin{bmatrix}1\\\\-1\\\\0\\end{bmatrix}$ 和 $v=\\begin{bmatrix}0\\\\1\\\\-1\\end{bmatrix}$，那么这两个向量既不重合也不平行，因此它们的线性组合组成了一个平面，三维空间的一个子空间。\n",
    "\n",
    "如果$w=\\begin{bmatrix}0\\\\0\\\\1\\end{bmatrix}$，由于三个向量两两不重合也不平行且不在一个平面上，因此它们的线性组合就组成了整个三维空间。写成矩阵乘法的形式：\n",
    "\n",
    "$$Ax=\\begin{bmatrix}1&0&0\\\\-1&1&0\\\\0&-1&1\\end{bmatrix}\\begin{bmatrix}x_1\\\\x_2\\\\x_3\\end{bmatrix}=\\begin{bmatrix}x_1\\\\x_2-x_1\\\\x_3-x_2\\end{bmatrix}$$\n",
    "\n",
    "我们可以将A成为差值矩阵。"
   ]
  },
  {
   "cell_type": "markdown",
   "metadata": {},
   "source": [
    "如果我们将上式写成方程组的形式：\n",
    "\n",
    "$$Ax=b \\Rightarrow\\begin{bmatrix}1&0&0\\\\-1&1&0\\\\0&-1&1\\end{bmatrix}\\begin{bmatrix}x_1\\\\x_2\\\\x_3\\end{bmatrix}=\\begin{bmatrix}b_1\\\\b_2\\\\b_3\\end{bmatrix}$$\n",
    "\n",
    "很容易解得：$\\begin{bmatrix}x_1\\\\x_2\\\\x_3\\end{bmatrix}=\\begin{bmatrix}b_1\\\\b_1+b_2\\\\b_1+b_2+b_3\\end{bmatrix}$"
   ]
  },
  {
   "cell_type": "markdown",
   "metadata": {},
   "source": [
    "将解的右边向量拆解为线性组合形式：\n",
    "\n",
    "$$\\begin{bmatrix}x_1\\\\x_2\\\\x_3\\end{bmatrix}=\\begin{bmatrix}1&0&0\\\\1&1&0\\\\1&1&1\\end{bmatrix}\\begin{bmatrix}b_1\\\\b_2\\\\b_3\\end{bmatrix}$$\n",
    "\n",
    "可知，等式右边的矩阵即为A的逆矩阵，记为$A^{-1}$"
   ]
  },
  {
   "cell_type": "markdown",
   "metadata": {},
   "source": [
    "下面我们将矩阵A稍作修改，变为矩阵$C=\\begin{bmatrix}1&0&-1\\\\-1&1&0\\\\0&-1&1\\end{bmatrix}$\n",
    "\n",
    "首先我们很容易看出：\n",
    "\n",
    "$$x=\\begin{bmatrix}n\\\\n\\\\n\\end{bmatrix}\\Rightarrow\\begin{bmatrix}1&0&-1\\\\-1&1&0\\\\0&-1&1\\end{bmatrix}\\begin{bmatrix}n\\\\n\\\\n\\end{bmatrix}=\\begin{bmatrix}0\\\\0\\\\0\\end{bmatrix}$$\n",
    "\n",
    "意味着$Cx=0$的解在一根直线上。\n",
    "\n",
    "因此无法找到C的逆矩阵$C^{-1}$满足$x=C^{-1}\\begin{bmatrix}0\\\\0\\\\0\\end{bmatrix}$，更一般的说，方程组等式右边$b=\\begin{bmatrix}b_1\\\\b_2\\\\b_3\\end{bmatrix}$的需要满足$b_1+b_2+b_3=0$条件才能令x有解，换句话说，C的列向量的线性组合无法填充整个三维空间，此例子中仅能填充一个二维平面。"
   ]
  },
  {
   "cell_type": "markdown",
   "metadata": {},
   "source": [
    "因此我们称A矩阵的列向量是独立（independent）的，而C矩阵的列向量是非独立（dependent）的。A矩阵是可逆的，而C矩阵的不可逆的。"
   ]
  },
  {
   "cell_type": "code",
   "execution_count": null,
   "metadata": {},
   "outputs": [],
   "source": []
  }
 ],
 "metadata": {
  "kernelspec": {
   "display_name": "Python 3",
   "language": "python",
   "name": "python3"
  },
  "language_info": {
   "codemirror_mode": {
    "name": "ipython",
    "version": 3
   },
   "file_extension": ".py",
   "mimetype": "text/x-python",
   "name": "python",
   "nbconvert_exporter": "python",
   "pygments_lexer": "ipython3",
   "version": "3.7.3"
  }
 },
 "nbformat": 4,
 "nbformat_minor": 2
}
