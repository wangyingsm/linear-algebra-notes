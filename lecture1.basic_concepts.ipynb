{
 "cells": [
  {
   "cell_type": "markdown",
   "metadata": {},
   "source": [
    "# 第一讲\n",
    "\n",
    "## 线性方程组\n",
    "\n",
    "n线性等式，n个未知数"
   ]
  },
  {
   "cell_type": "markdown",
   "metadata": {},
   "source": [
    "### 线性方程组的表示形式\n",
    "\n",
    "$$2x-y=0$$\n",
    "$$-x+2y=3$$\n",
    "\n",
    "可以表示成矩阵及向量形式：\n",
    "\n",
    "$$\\begin{bmatrix} 2 & -1 \\\\ -1 & 2 \\end{bmatrix} \\begin{bmatrix} x \\\\ y \\end{bmatrix}= \\begin{bmatrix} 0 \\\\ 3 \\end{bmatrix}$$\n",
    "\n",
    "我们用矩阵A代表未知数的系数，用x代表未知数向量，用b代表等号右边的常数向量，则通式为：\n",
    "\n",
    "$$Ax=b$$"
   ]
  },
  {
   "cell_type": "markdown",
   "metadata": {},
   "source": [
    "### 行视角 Row picture\n",
    "\n",
    "将上述方程组中的每个等式看成是二维空间中的一条线，即可认为是线性方程组的行视角，如上面的方程组，作图："
   ]
  },
  {
   "cell_type": "code",
   "execution_count": 1,
   "metadata": {},
   "outputs": [],
   "source": [
    "%matplotlib inline\n",
    "import matplotlib.pyplot as plt\n",
    "import numpy as np\n",
    "plt.style.use('seaborn')"
   ]
  },
  {
   "cell_type": "code",
   "execution_count": 2,
   "metadata": {},
   "outputs": [
    {
     "data": {
      "text/plain": [
       "[<matplotlib.lines.Line2D at 0x7fd08a132da0>]"
      ]
     },
     "execution_count": 2,
     "metadata": {},
     "output_type": "execute_result"
    },
    {
     "data": {
      "image/png": "[encoded data removed]",
      "text/plain": [
       "<Figure size 432x288 with 1 Axes>"
      ]
     },
     "metadata": {
      "needs_background": "light"
     },
     "output_type": "display_data"
    }
   ],
   "source": [
    "# 在平面上作出两条直线图形\n",
    "x = np.linspace(-5, 5, 101)\n",
    "y1 = x*2\n",
    "plt.ylim(-5, 5)\n",
    "plt.xticks(range(-5,6))\n",
    "plt.yticks(range(-5,6))\n",
    "plt.plot(x, y1, 'r-')\n",
    "y2 = (3+x)/2\n",
    "plt.plot(x, y2, 'g-')"
   ]
  },
  {
   "cell_type": "markdown",
   "metadata": {},
   "source": [
    "### 列视角 Column picture\n",
    "\n",
    "上面的方程组也可以写成：\n",
    "\n",
    "$$x\\begin{bmatrix}2\\\\-1\\end{bmatrix}+y\\begin{bmatrix}-1\\\\2\\end{bmatrix}=\\begin{bmatrix}0\\\\3\\end{bmatrix}$$\n",
    "\n",
    "由上式可知，我们需要找到的是一个A矩阵每个列的线性组合，使得组合之后的结果等于b。\n",
    "\n",
    "将上式中的每个向量在二维平面坐标系中表达出来："
   ]
  },
  {
   "cell_type": "code",
   "execution_count": 3,
   "metadata": {},
   "outputs": [
    {
     "data": {
      "text/plain": [
       "<matplotlib.patches.FancyArrow at 0x7fd08a0cd240>"
      ]
     },
     "execution_count": 3,
     "metadata": {},
     "output_type": "execute_result"
    },
    {
     "data": {
      "image/png": "[encoded data removed]",
      "text/plain": [
       "<Figure size 432x288 with 1 Axes>"
      ]
     },
     "metadata": {
      "needs_background": "light"
     },
     "output_type": "display_data"
    }
   ],
   "source": [
    "plt.xlim(-3, 3)\n",
    "plt.ylim(-2, 4)\n",
    "plt.arrow(0, 0, 1.9, -0.9, width=0.01, head_width=0.1, color='red')\n",
    "plt.arrow(0, 0, -0.9, 1.8, width=0.01, head_width=0.1, color='green')\n",
    "plt.arrow(0, 0, 0, 2.8, width=0.01, head_width=0.1, color='navy')\n",
    "plt.arrow(2, -1, -1.95, 3.8, width=0.01, head_width=0.1, color='black')"
   ]
  },
  {
   "cell_type": "markdown",
   "metadata": {},
   "source": [
    "上图中黑色箭头是$2\\times\\begin{bmatrix}-1\\\\2\\end{bmatrix}$，因此红色箭头与黑色箭头的向量和就是结果向量。\n",
    "\n",
    "可以看出最后的结果为：\n",
    "\n",
    "$$1\\times\\begin{bmatrix}2\\\\-1\\end{bmatrix}+2\\times\\begin{bmatrix}-1\\\\2\\end{bmatrix}=\\begin{bmatrix}0\\\\3\\end{bmatrix}$$"
   ]
  },
  {
   "cell_type": "markdown",
   "metadata": {},
   "source": [
    "## 三个未知数的情况\n",
    "\n",
    "考虑三个等式和三个未知数的情况，方程组如下：\n",
    "\n",
    "$$2x-y\\quad\\ =0$$\n",
    "$$-x+2y-z=-1$$\n",
    "$$\\quad-3y+4z=4$$\n",
    "\n",
    "得到矩阵式：\n",
    "\n",
    "$$\\begin{bmatrix}2&-1&0\\\\-1&2&-1\\\\0&-3&4\\end{bmatrix}\\begin{bmatrix}x\\\\y\\\\z\\end{bmatrix}=\\begin{bmatrix}0\\\\-1\\\\4\\end{bmatrix}$$"
   ]
  },
  {
   "cell_type": "markdown",
   "metadata": {},
   "source": [
    "### 行视角\n",
    "\n",
    "每个等式在三维坐标系中都组成一个二维平面，两个平面如果相交，会交汇于一条直线。三个平面如果不存在平行情况，会相交于一点。"
   ]
  },
  {
   "cell_type": "markdown",
   "metadata": {},
   "source": [
    "### 列视角\n",
    "\n",
    "我们按照上面的方法，将方程组改写为向量线性组合的方式，即列视角：\n",
    "\n",
    "$$x\\begin{bmatrix}2\\\\-1\\\\0\\end{bmatrix}+y\\begin{bmatrix}-1\\\\2\\\\-3\\end{bmatrix}+z\\begin{bmatrix}0\\\\-1\\\\4\\end{bmatrix}=\\begin{bmatrix}0\\\\-1\\\\4\\end{bmatrix}$$\n",
    "\n",
    "很容易看出当`x=0, y=0, z=1`时，上述的线性组合满足要求。"
   ]
  },
  {
   "cell_type": "markdown",
   "metadata": {},
   "source": [
    "## 推广\n",
    "\n",
    "对于$Ax=b$，对于任意向量b是否存在向量x使等式成立？\n",
    "\n",
    "根据列视角，这个问题等同于，A矩阵的列进行任意线性组合是否能够填满整个三维空间？\n",
    "\n",
    "更普遍的对于n维空间内的实数矩阵A，我们可以记为$A\\in\\mathbb{R}^{n \\times n}$，是否可以对A的列进行任意的线性组合，使得结果填满整个n维空间？"
   ]
  },
  {
   "cell_type": "markdown",
   "metadata": {},
   "source": [
    "### 二维情况\n",
    "\n",
    "按照列视角来看，如果A的列向量都在同一条直线上，那么它们的线性组合也都会在这条直线上，永远无法填满整个二维平面。\n",
    "\n",
    "如果我们将二维情况下的矩阵A记为$\\begin{bmatrix}v1&v2\\end{bmatrix}$，例如当\n",
    "\n",
    "$$A=\\begin{bmatrix}1&3\\\\-2&-6\\end{bmatrix}$$\n",
    "\n",
    "时，我们有：\n",
    "\n",
    "$$v1=\\begin{bmatrix}1\\\\-2\\end{bmatrix},\\quad v2=\\begin{bmatrix}3\\\\-6\\end{bmatrix}$$\n",
    "\n",
    "那么，如果$v1=k \\times v2, k \\in \\mathbb{R}$时，无法填满平面。"
   ]
  },
  {
   "cell_type": "markdown",
   "metadata": {},
   "source": [
    "### 高维情况\n",
    "\n",
    "推广到三维的情况，如果A的列向量都在同一个二维平面上，那么它们的线性组合也都会在这个平面上，永远无法填满整个三维空间。\n",
    "\n",
    "即如果$v1=k1 \\times v2+k2 \\times v3, k1,k2 \\in \\mathbb{R}$时，无法满足。\n",
    "\n",
    "更一般的，如果A矩阵的列向量不是独立的，其中的某个列是其他列的线性组合的话，上述问题不成立。"
   ]
  },
  {
   "cell_type": "markdown",
   "metadata": {},
   "source": [
    "## 矩阵与向量乘积的列视角\n",
    "\n",
    "使用列视角的方式来看矩阵与向量的乘积，即$Ax=b$中的$Ax$：\n",
    "\n",
    "$$\\begin{bmatrix}2&5\\\\1&3\\end{bmatrix}\\begin{bmatrix}1\\\\2\\end{bmatrix}=1\\times\\begin{bmatrix}2\\\\1\\end{bmatrix}+2\\times\\begin{bmatrix}5\\\\3\\end{bmatrix}=\\begin{bmatrix}12\\\\7\\end{bmatrix}$$\n",
    "\n",
    "如果按照行视角来考虑，那么将会是A矩阵的行与向量进行点积之后的结果："
   ]
  },
  {
   "cell_type": "code",
   "execution_count": 4,
   "metadata": {},
   "outputs": [
    {
     "data": {
      "text/plain": [
       "array([12,  7])"
      ]
     },
     "execution_count": 4,
     "metadata": {},
     "output_type": "execute_result"
    }
   ],
   "source": [
    "A = np.array([[2, 5], [1, 3]])\n",
    "x = np.array([1, 2])\n",
    "np.array([A[0].dot(x), A[1].dot(x)])"
   ]
  },
  {
   "cell_type": "code",
   "execution_count": null,
   "metadata": {},
   "outputs": [],
   "source": []
  }
 ],
 "metadata": {
  "kernelspec": {
   "display_name": "Python 3",
   "language": "python",
   "name": "python3"
  },
  "language_info": {
   "codemirror_mode": {
    "name": "ipython",
    "version": 3
   },
   "file_extension": ".py",
   "mimetype": "text/x-python",
   "name": "python",
   "nbconvert_exporter": "python",
   "pygments_lexer": "ipython3",
   "version": "3.7.3"
  }
 },
 "nbformat": 4,
 "nbformat_minor": 2
}
